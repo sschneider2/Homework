{
 "cells": [
  {
   "cell_type": "code",
   "execution_count": 1,
   "metadata": {
    "collapsed": true
   },
   "outputs": [],
   "source": [
    "import random"
   ]
  },
  {
   "cell_type": "code",
   "execution_count": 5,
   "metadata": {
    "collapsed": false
   },
   "outputs": [
    {
     "name": "stdout",
     "output_type": "stream",
     "text": [
      "If Dan is blue then Karie jumps\n"
     ]
    }
   ],
   "source": [
    "pronouns = [\"Sara\", \"Tim\", \"Jordan\", \"Adolfo\", \"Karie\", \"Dan\", \"Shadi\"]\n",
    "adjs = [\"happy\", \"sad\", \"excited\", \"unhappy\", \"blue\", \"red\"]\n",
    "verbs = [\"runs\", \"smiles\", \"cries\", \"jumps\", \"apologizes\", \"laughs\"]\n",
    "\n",
    "print \" \".join([\"If\", random.choice(pronouns), \"is\", random.choice(adjs), \"then\", random.choice(pronouns), random.choice(verbs)])\n",
    "\n",
    "#My formal grammar that I made was \"If pronoun is adjective then pronoun verb.\" I think it worked out pretty well!"
   ]
  },
  {
   "cell_type": "code",
   "execution_count": null,
   "metadata": {
    "collapsed": true
   },
   "outputs": [],
   "source": []
  }
 ],
 "metadata": {
  "kernelspec": {
   "display_name": "Python 2",
   "language": "python",
   "name": "python2"
  },
  "language_info": {
   "codemirror_mode": {
    "name": "ipython",
    "version": 2
   },
   "file_extension": ".py",
   "mimetype": "text/x-python",
   "name": "python",
   "nbconvert_exporter": "python",
   "pygments_lexer": "ipython2",
   "version": "2.7.11"
  }
 },
 "nbformat": 4,
 "nbformat_minor": 0
}
